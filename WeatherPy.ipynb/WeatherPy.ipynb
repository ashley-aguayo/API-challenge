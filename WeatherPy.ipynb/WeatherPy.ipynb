{
 "metadata": {
  "language_info": {
   "codemirror_mode": {
    "name": "ipython",
    "version": 3
   },
   "file_extension": ".py",
   "mimetype": "text/x-python",
   "name": "python",
   "nbconvert_exporter": "python",
   "pygments_lexer": "ipython3",
   "version": "3.7.9"
  },
  "orig_nbformat": 2,
  "kernelspec": {
   "name": "python379jvsc74a57bd000603a2c3e8eb17b83d7fca558293375879bba6e0cc7e84ab094aaf79e0fa4fb",
   "display_name": "Python 3.7.9 64-bit ('pythondata': conda)"
  }
 },
 "nbformat": 4,
 "nbformat_minor": 2,
 "cells": [
  {
   "cell_type": "code",
   "execution_count": 22,
   "metadata": {},
   "outputs": [
    {
     "output_type": "stream",
     "name": "stdout",
     "text": [
      "6d2f47049cb380aa267858b2e66a720f\n"
     ]
    }
   ],
   "source": [
    "# Dependencies and Setup--provided in startercode\n",
    "import matplotlib.pyplot as plt\n",
    "import pandas as pd\n",
    "import numpy as np\n",
    "import requests\n",
    "import time\n",
    "from scipy.stats import linregress\n",
    "\n",
    "# Import API key\n",
    "from api_keys import weather_api_key\n",
    "print(weather_api_key)\n",
    "# Incorporated citipy to determine city based on latitude and longitude\n",
    "from citipy import citipy\n",
    "\n",
    "# Output File (CSV)\n",
    "output_data_file = \"output_data/cities.csv\"\n",
    "\n",
    "# Range of latitudes and longitudes\n",
    "lat_range = (-90, 90)\n",
    "lng_range = (-180, 180)"
   ]
  },
  {
   "cell_type": "code",
   "execution_count": 23,
   "metadata": {},
   "outputs": [
    {
     "output_type": "execute_result",
     "data": {
      "text/plain": [
       "614"
      ]
     },
     "metadata": {},
     "execution_count": 23
    }
   ],
   "source": [
    "#Generate CITIES LIST\n",
    "# List for holding lat_lngs and cities\n",
    "lat_lngs = []\n",
    "cities = []\n",
    "\n",
    "# Create a set of random lat and lng combinations\n",
    "lats = np.random.uniform(lat_range[0], lat_range[1], size=1500)\n",
    "lngs = np.random.uniform(lng_range[0], lng_range[1], size=1500)\n",
    "lat_lngs = zip(lats, lngs)\n",
    "\n",
    "# Identify nearest city for each lat, lng combination\n",
    "for lat_lng in lat_lngs:\n",
    "    city = citipy.nearest_city(lat_lng[0], lat_lng[1]).city_name\n",
    "    \n",
    "    # If the city is unique, then add it to a our cities list\n",
    "    if city not in cities:\n",
    "        cities.append(city)\n",
    "\n",
    "# Print the city count to confirm sufficient count\n",
    "len(cities)"
   ]
  },
  {
   "cell_type": "code",
   "execution_count": 24,
   "metadata": {
    "tags": []
   },
   "outputs": [
    {
     "output_type": "stream",
     "name": "stdout",
     "text": [
      "{'coord': {'lon': -68.3, 'lat': -54.8}, 'weather': [{'id': 803, 'main': 'Clouds', 'description': 'broken clouds', 'icon': '04n'}], 'base': 'stations', 'main': {'temp': 279.15, 'feels_like': 276.47, 'temp_min': 279.15, 'temp_max': 279.15, 'pressure': 991, 'humidity': 87}, 'visibility': 10000, 'wind': {'speed': 3.6, 'deg': 90}, 'clouds': {'all': 75}, 'dt': 1619484632, 'sys': {'type': 1, 'id': 8303, 'country': 'AR', 'sunrise': 1619437501, 'sunset': 1619471795}, 'timezone': -10800, 'id': 3833367, 'name': 'Ushuaia', 'cod': 200}\n",
      "{'coord': {'lon': -97.8558, 'lat': 55.7435}, 'weather': [{'id': 802, 'main': 'Clouds', 'description': 'scattered clouds', 'icon': '03d'}], 'base': 'stations', 'main': {'temp': 282.15, 'feels_like': 279.24, 'temp_min': 282.15, 'temp_max': 282.15, 'pressure': 999, 'humidity': 49}, 'visibility': 10000, 'wind': {'speed': 5.66, 'deg': 180, 'gust': 10.29}, 'clouds': {'all': 40}, 'dt': 1619484877, 'sys': {'type': 1, 'id': 935, 'country': 'CA', 'sunrise': 1619434727, 'sunset': 1619488754}, 'timezone': -18000, 'id': 6165406, 'name': 'Thompson', 'cod': 200}\n",
      "{'coord': {'lon': 94.7333, 'lat': 16.7833}, 'weather': [{'id': 803, 'main': 'Clouds', 'description': 'broken clouds', 'icon': '04d'}], 'base': 'stations', 'main': {'temp': 301.88, 'feels_like': 304.64, 'temp_min': 301.88, 'temp_max': 301.88, 'pressure': 1010, 'humidity': 66, 'sea_level': 1010, 'grnd_level': 1009}, 'visibility': 10000, 'wind': {'speed': 2.73, 'deg': 277, 'gust': 4.13}, 'clouds': {'all': 65}, 'dt': 1619484877, 'sys': {'country': 'MM', 'sunrise': 1619479079, 'sunset': 1619524751}, 'timezone': 23400, 'id': 1328421, 'name': 'Pathein', 'cod': 200}\n",
      "{'coord': {'lon': 18.4232, 'lat': -33.9258}, 'weather': [{'id': 502, 'main': 'Rain', 'description': 'heavy intensity rain', 'icon': '10n'}], 'base': 'stations', 'main': {'temp': 290.04, 'feels_like': 290.08, 'temp_min': 289.82, 'temp_max': 290.37, 'pressure': 1009, 'humidity': 88}, 'visibility': 6000, 'wind': {'speed': 6.17, 'deg': 40}, 'rain': {'1h': 4.06}, 'clouds': {'all': 90}, 'dt': 1619484368, 'sys': {'type': 1, 'id': 1899, 'country': 'ZA', 'sunrise': 1619500674, 'sunset': 1619539781}, 'timezone': 7200, 'id': 3369157, 'name': 'Cape Town', 'cod': 200}\n",
      "{'coord': {'lon': 133.8833, 'lat': -23.7}, 'weather': [{'id': 800, 'main': 'Clear', 'description': 'clear sky', 'icon': '01d'}], 'base': 'stations', 'main': {'temp': 294.15, 'feels_like': 293.04, 'temp_min': 294.15, 'temp_max': 294.15, 'pressure': 1024, 'humidity': 28}, 'visibility': 10000, 'wind': {'speed': 7.2, 'deg': 100}, 'clouds': {'all': 0}, 'dt': 1619484878, 'sys': {'type': 1, 'id': 9483, 'country': 'AU', 'sunrise': 1619472179, 'sunset': 1619512862}, 'timezone': 34200, 'id': 2077895, 'name': 'Alice Springs', 'cod': 200}\n",
      "{'coord': {'lon': -122.1445, 'lat': 52.1415}, 'weather': [{'id': 801, 'main': 'Clouds', 'description': 'few clouds', 'icon': '02d'}], 'base': 'stations', 'main': {'temp': 288.15, 'feels_like': 286.1, 'temp_min': 288.15, 'temp_max': 288.15, 'pressure': 1005, 'humidity': 15}, 'visibility': 10000, 'wind': {'speed': 5.14, 'deg': 230, 'gust': 9.26}, 'clouds': {'all': 20}, 'dt': 1619484604, 'sys': {'type': 1, 'id': 970, 'country': 'CA', 'sunrise': 1619441233, 'sunset': 1619493906}, 'timezone': -25200, 'id': 6182212, 'name': 'Williams Lake', 'cod': 200}\n",
      "{'coord': {'lon': 10.7002, 'lat': 46.6166}, 'weather': [{'id': 804, 'main': 'Clouds', 'description': 'overcast clouds', 'icon': '04n'}], 'base': 'stations', 'main': {'temp': 283.13, 'feels_like': 283.13, 'temp_min': 281.48, 'temp_max': 284.82, 'pressure': 926, 'humidity': 71}, 'visibility': 203, 'wind': {'speed': 0.88, 'deg': 148, 'gust': 1.23}, 'clouds': {'all': 100}, 'dt': 1619484750, 'sys': {'type': 3, 'id': 2002891, 'country': 'IT', 'sunrise': 1619496530, 'sunset': 1619547632}, 'timezone': 7200, 'id': 3175096, 'name': 'Laas', 'cod': 200}\n",
      "{'cod': '404', 'message': 'city not found'}\n"
     ]
    },
    {
     "output_type": "error",
     "ename": "KeyError",
     "evalue": "'coord'",
     "traceback": [
      "\u001b[1;31m---------------------------------------------------------------------------\u001b[0m",
      "\u001b[1;31mKeyError\u001b[0m                                  Traceback (most recent call last)",
      "\u001b[1;32m<ipython-input-24-4651de53ce73>\u001b[0m in \u001b[0;36m<module>\u001b[1;34m\u001b[0m\n\u001b[0;32m     23\u001b[0m     \u001b[0mresponse\u001b[0m\u001b[1;33m=\u001b[0m\u001b[0mrequests\u001b[0m\u001b[1;33m.\u001b[0m\u001b[0mget\u001b[0m\u001b[1;33m(\u001b[0m\u001b[0mbase_url\u001b[0m \u001b[1;33m+\u001b[0m \u001b[0mcity\u001b[0m \u001b[1;33m+\u001b[0m \u001b[1;34m'&appid='\u001b[0m \u001b[1;33m+\u001b[0m \u001b[0mweather_api_key\u001b[0m\u001b[1;33m)\u001b[0m\u001b[1;33m.\u001b[0m\u001b[0mjson\u001b[0m\u001b[1;33m(\u001b[0m\u001b[1;33m)\u001b[0m\u001b[1;33m\u001b[0m\u001b[1;33m\u001b[0m\u001b[0m\n\u001b[0;32m     24\u001b[0m     \u001b[0mprint\u001b[0m\u001b[1;33m(\u001b[0m\u001b[0mresponse\u001b[0m\u001b[1;33m)\u001b[0m\u001b[1;33m\u001b[0m\u001b[1;33m\u001b[0m\u001b[0m\n\u001b[1;32m---> 25\u001b[1;33m     \u001b[0mlat\u001b[0m\u001b[1;33m.\u001b[0m\u001b[0mappend\u001b[0m\u001b[1;33m(\u001b[0m\u001b[0mresponse\u001b[0m\u001b[1;33m[\u001b[0m\u001b[1;34m'coord'\u001b[0m\u001b[1;33m]\u001b[0m\u001b[1;33m[\u001b[0m\u001b[1;34m'lat'\u001b[0m\u001b[1;33m]\u001b[0m\u001b[1;33m)\u001b[0m\u001b[1;33m\u001b[0m\u001b[1;33m\u001b[0m\u001b[0m\n\u001b[0m\u001b[0;32m     26\u001b[0m     \u001b[0mlng\u001b[0m\u001b[1;33m.\u001b[0m\u001b[0mappend\u001b[0m\u001b[1;33m(\u001b[0m\u001b[0mresponse\u001b[0m\u001b[1;33m[\u001b[0m\u001b[1;34m'coord'\u001b[0m\u001b[1;33m]\u001b[0m\u001b[1;33m[\u001b[0m\u001b[1;34m'lon'\u001b[0m\u001b[1;33m]\u001b[0m\u001b[1;33m)\u001b[0m\u001b[1;33m\u001b[0m\u001b[1;33m\u001b[0m\u001b[0m\n\u001b[0;32m     27\u001b[0m     \u001b[0mw_description\u001b[0m\u001b[1;33m.\u001b[0m\u001b[0mappend\u001b[0m\u001b[1;33m(\u001b[0m\u001b[0mresponse\u001b[0m\u001b[1;33m[\u001b[0m\u001b[1;34m'weather'\u001b[0m\u001b[1;33m]\u001b[0m\u001b[1;33m[\u001b[0m\u001b[1;36m0\u001b[0m\u001b[1;33m]\u001b[0m\u001b[1;33m[\u001b[0m\u001b[1;34m'description'\u001b[0m\u001b[1;33m]\u001b[0m\u001b[1;33m)\u001b[0m\u001b[1;33m\u001b[0m\u001b[1;33m\u001b[0m\u001b[0m\n",
      "\u001b[1;31mKeyError\u001b[0m: 'coord'"
     ]
    }
   ],
   "source": [
    "#Perform API Calls\n",
    "#Perform a weather check on each city using a series of successive API calls.\n",
    "# Include a print log of each city as it'sbeing processed (with the city number and city name).\n",
    "base_url = f'http://api.openweathermap.org/data/2.5/weather?q='\n",
    "#loop through cities to create data frame\n",
    "lat = []\n",
    "lng = []\n",
    "weathermain = []\n",
    "w_description = []\n",
    "temp = []\n",
    "vis = []\n",
    "temp= []\n",
    "temp_feels = []\n",
    "temp_min = []\n",
    "temp_max = []\n",
    "pressure = []\n",
    "humidity = []\n",
    "sealvl = []\n",
    "clouds = []\n",
    "windspeed = []\n",
    "name = []\n",
    "for city in cities:\n",
    "    response=requests.get(base_url + city + '&appid=' + weather_api_key).json()\n",
    "    print(response)\n",
    "    lat.append(response['coord']['lat'])\n",
    "    lng.append(response['coord']['lon'])\n",
    "    w_description.append(response['weather'][0]['description'])\n",
    "    weathermain.append(response['weather'][0]['main'])\n",
    "    temp.append(response['main']['temp'])\n",
    "    temp_feels.append(response['main']['feels_like'])\n",
    "    temp_min.append(response['main']['temp_min'])\n",
    "    temp_max.append(response['main']['temp_max'])\n",
    "    pressure.append(response['main']['pressure'])\n",
    "    humidity.append(response['main']['humidity'])\n",
    "    clouds.append(response['clouds']['all'])\n",
    "    vis.append(response['visibility'])\n",
    "    windspeed.append(response['wind']['speed'])\n",
    "    name.append(response['name'])\n",
    "    "
   ]
  },
  {
   "cell_type": "code",
   "execution_count": 25,
   "metadata": {},
   "outputs": [
    {
     "output_type": "execute_result",
     "data": {
      "text/plain": [
       "            City      LAT       LON Weather            Desription    Temp  \\\n",
       "0        Ushuaia -54.8000  -68.3000  Clouds         broken clouds  279.15   \n",
       "1       Thompson  55.7435  -97.8558  Clouds      scattered clouds  282.15   \n",
       "2        Pathein  16.7833   94.7333  Clouds         broken clouds  301.88   \n",
       "3      Cape Town -33.9258   18.4232    Rain  heavy intensity rain  290.04   \n",
       "4  Alice Springs -23.7000  133.8833   Clear             clear sky  294.15   \n",
       "5  Williams Lake  52.1415 -122.1445  Clouds            few clouds  288.15   \n",
       "6           Laas  46.6166   10.7002  Clouds       overcast clouds  283.13   \n",
       "\n",
       "   Temp Feels  Temp Min  Temp Max  Pressure  Humidity  Visibility  Clouds  \\\n",
       "0      276.47    279.15    279.15       991        87       10000      75   \n",
       "1      279.24    282.15    282.15       999        49       10000      40   \n",
       "2      304.64    301.88    301.88      1010        66       10000      65   \n",
       "3      290.08    289.82    290.37      1009        88        6000      90   \n",
       "4      293.04    294.15    294.15      1024        28       10000       0   \n",
       "5      286.10    288.15    288.15      1005        15       10000      20   \n",
       "6      283.13    281.48    284.82       926        71         203     100   \n",
       "\n",
       "   Wind Speed  \n",
       "0        3.60  \n",
       "1        5.66  \n",
       "2        2.73  \n",
       "3        6.17  \n",
       "4        7.20  \n",
       "5        5.14  \n",
       "6        0.88  "
      ],
      "text/html": "<div>\n<style scoped>\n    .dataframe tbody tr th:only-of-type {\n        vertical-align: middle;\n    }\n\n    .dataframe tbody tr th {\n        vertical-align: top;\n    }\n\n    .dataframe thead th {\n        text-align: right;\n    }\n</style>\n<table border=\"1\" class=\"dataframe\">\n  <thead>\n    <tr style=\"text-align: right;\">\n      <th></th>\n      <th>City</th>\n      <th>LAT</th>\n      <th>LON</th>\n      <th>Weather</th>\n      <th>Desription</th>\n      <th>Temp</th>\n      <th>Temp Feels</th>\n      <th>Temp Min</th>\n      <th>Temp Max</th>\n      <th>Pressure</th>\n      <th>Humidity</th>\n      <th>Visibility</th>\n      <th>Clouds</th>\n      <th>Wind Speed</th>\n    </tr>\n  </thead>\n  <tbody>\n    <tr>\n      <th>0</th>\n      <td>Ushuaia</td>\n      <td>-54.8000</td>\n      <td>-68.3000</td>\n      <td>Clouds</td>\n      <td>broken clouds</td>\n      <td>279.15</td>\n      <td>276.47</td>\n      <td>279.15</td>\n      <td>279.15</td>\n      <td>991</td>\n      <td>87</td>\n      <td>10000</td>\n      <td>75</td>\n      <td>3.60</td>\n    </tr>\n    <tr>\n      <th>1</th>\n      <td>Thompson</td>\n      <td>55.7435</td>\n      <td>-97.8558</td>\n      <td>Clouds</td>\n      <td>scattered clouds</td>\n      <td>282.15</td>\n      <td>279.24</td>\n      <td>282.15</td>\n      <td>282.15</td>\n      <td>999</td>\n      <td>49</td>\n      <td>10000</td>\n      <td>40</td>\n      <td>5.66</td>\n    </tr>\n    <tr>\n      <th>2</th>\n      <td>Pathein</td>\n      <td>16.7833</td>\n      <td>94.7333</td>\n      <td>Clouds</td>\n      <td>broken clouds</td>\n      <td>301.88</td>\n      <td>304.64</td>\n      <td>301.88</td>\n      <td>301.88</td>\n      <td>1010</td>\n      <td>66</td>\n      <td>10000</td>\n      <td>65</td>\n      <td>2.73</td>\n    </tr>\n    <tr>\n      <th>3</th>\n      <td>Cape Town</td>\n      <td>-33.9258</td>\n      <td>18.4232</td>\n      <td>Rain</td>\n      <td>heavy intensity rain</td>\n      <td>290.04</td>\n      <td>290.08</td>\n      <td>289.82</td>\n      <td>290.37</td>\n      <td>1009</td>\n      <td>88</td>\n      <td>6000</td>\n      <td>90</td>\n      <td>6.17</td>\n    </tr>\n    <tr>\n      <th>4</th>\n      <td>Alice Springs</td>\n      <td>-23.7000</td>\n      <td>133.8833</td>\n      <td>Clear</td>\n      <td>clear sky</td>\n      <td>294.15</td>\n      <td>293.04</td>\n      <td>294.15</td>\n      <td>294.15</td>\n      <td>1024</td>\n      <td>28</td>\n      <td>10000</td>\n      <td>0</td>\n      <td>7.20</td>\n    </tr>\n    <tr>\n      <th>5</th>\n      <td>Williams Lake</td>\n      <td>52.1415</td>\n      <td>-122.1445</td>\n      <td>Clouds</td>\n      <td>few clouds</td>\n      <td>288.15</td>\n      <td>286.10</td>\n      <td>288.15</td>\n      <td>288.15</td>\n      <td>1005</td>\n      <td>15</td>\n      <td>10000</td>\n      <td>20</td>\n      <td>5.14</td>\n    </tr>\n    <tr>\n      <th>6</th>\n      <td>Laas</td>\n      <td>46.6166</td>\n      <td>10.7002</td>\n      <td>Clouds</td>\n      <td>overcast clouds</td>\n      <td>283.13</td>\n      <td>283.13</td>\n      <td>281.48</td>\n      <td>284.82</td>\n      <td>926</td>\n      <td>71</td>\n      <td>203</td>\n      <td>100</td>\n      <td>0.88</td>\n    </tr>\n  </tbody>\n</table>\n</div>"
     },
     "metadata": {},
     "execution_count": 25
    }
   ],
   "source": [
    "#create a data frame for these citites data\n",
    "cities_dict = {\n",
    "    \"City\" : name,\n",
    "    \"LAT\": lat,\n",
    "    'LON': lng,\n",
    "    'Weather': weathermain,\n",
    "    'Desription': w_description,\n",
    "    'Temp': temp,\n",
    "    'Temp Feels': temp_feels,\n",
    "    'Temp Min' : temp_min,\n",
    "    'Temp Max': temp_max,\n",
    "    'Pressure': pressure,\n",
    "    'Humidity': humidity,\n",
    "    'Visibility': vis,\n",
    "    'Clouds' : clouds,\n",
    "    'Wind Speed': windspeed\n",
    "}\n",
    "cities_df = pd.DataFrame(cities_dict)\n",
    "cities_df"
   ]
  },
  {
   "cell_type": "code",
   "execution_count": 26,
   "metadata": {},
   "outputs": [],
   "source": [
    "#Export the city data into a .csv.Display the DataFrame\n",
    "cities_df.to_csv('cities.csv', encoding='utf-8', index= False)"
   ]
  },
  {
   "cell_type": "code",
   "execution_count": 32,
   "metadata": {},
   "outputs": [
    {
     "output_type": "execute_result",
     "data": {
      "text/plain": [
       "            City      LAT       LON Weather            Desription    Temp  \\\n",
       "0        Ushuaia -54.8000  -68.3000  Clouds         broken clouds  279.15   \n",
       "1       Thompson  55.7435  -97.8558  Clouds      scattered clouds  282.15   \n",
       "2        Pathein  16.7833   94.7333  Clouds         broken clouds  301.88   \n",
       "3      Cape Town -33.9258   18.4232    Rain  heavy intensity rain  290.04   \n",
       "4  Alice Springs -23.7000  133.8833   Clear             clear sky  294.15   \n",
       "5  Williams Lake  52.1415 -122.1445  Clouds            few clouds  288.15   \n",
       "6           Laas  46.6166   10.7002  Clouds       overcast clouds  283.13   \n",
       "\n",
       "   Temp Feels  Temp Min  Temp Max  Pressure  Humidity  Visibility  Clouds  \\\n",
       "0      276.47    279.15    279.15       991        87       10000      75   \n",
       "1      279.24    282.15    282.15       999        49       10000      40   \n",
       "2      304.64    301.88    301.88      1010        66       10000      65   \n",
       "3      290.08    289.82    290.37      1009        88        6000      90   \n",
       "4      293.04    294.15    294.15      1024        28       10000       0   \n",
       "5      286.10    288.15    288.15      1005        15       10000      20   \n",
       "6      283.13    281.48    284.82       926        71         203     100   \n",
       "\n",
       "   Wind Speed  \n",
       "0        3.60  \n",
       "1        5.66  \n",
       "2        2.73  \n",
       "3        6.17  \n",
       "4        7.20  \n",
       "5        5.14  \n",
       "6        0.88  "
      ],
      "text/html": "<div>\n<style scoped>\n    .dataframe tbody tr th:only-of-type {\n        vertical-align: middle;\n    }\n\n    .dataframe tbody tr th {\n        vertical-align: top;\n    }\n\n    .dataframe thead th {\n        text-align: right;\n    }\n</style>\n<table border=\"1\" class=\"dataframe\">\n  <thead>\n    <tr style=\"text-align: right;\">\n      <th></th>\n      <th>City</th>\n      <th>LAT</th>\n      <th>LON</th>\n      <th>Weather</th>\n      <th>Desription</th>\n      <th>Temp</th>\n      <th>Temp Feels</th>\n      <th>Temp Min</th>\n      <th>Temp Max</th>\n      <th>Pressure</th>\n      <th>Humidity</th>\n      <th>Visibility</th>\n      <th>Clouds</th>\n      <th>Wind Speed</th>\n    </tr>\n  </thead>\n  <tbody>\n    <tr>\n      <th>0</th>\n      <td>Ushuaia</td>\n      <td>-54.8000</td>\n      <td>-68.3000</td>\n      <td>Clouds</td>\n      <td>broken clouds</td>\n      <td>279.15</td>\n      <td>276.47</td>\n      <td>279.15</td>\n      <td>279.15</td>\n      <td>991</td>\n      <td>87</td>\n      <td>10000</td>\n      <td>75</td>\n      <td>3.60</td>\n    </tr>\n    <tr>\n      <th>1</th>\n      <td>Thompson</td>\n      <td>55.7435</td>\n      <td>-97.8558</td>\n      <td>Clouds</td>\n      <td>scattered clouds</td>\n      <td>282.15</td>\n      <td>279.24</td>\n      <td>282.15</td>\n      <td>282.15</td>\n      <td>999</td>\n      <td>49</td>\n      <td>10000</td>\n      <td>40</td>\n      <td>5.66</td>\n    </tr>\n    <tr>\n      <th>2</th>\n      <td>Pathein</td>\n      <td>16.7833</td>\n      <td>94.7333</td>\n      <td>Clouds</td>\n      <td>broken clouds</td>\n      <td>301.88</td>\n      <td>304.64</td>\n      <td>301.88</td>\n      <td>301.88</td>\n      <td>1010</td>\n      <td>66</td>\n      <td>10000</td>\n      <td>65</td>\n      <td>2.73</td>\n    </tr>\n    <tr>\n      <th>3</th>\n      <td>Cape Town</td>\n      <td>-33.9258</td>\n      <td>18.4232</td>\n      <td>Rain</td>\n      <td>heavy intensity rain</td>\n      <td>290.04</td>\n      <td>290.08</td>\n      <td>289.82</td>\n      <td>290.37</td>\n      <td>1009</td>\n      <td>88</td>\n      <td>6000</td>\n      <td>90</td>\n      <td>6.17</td>\n    </tr>\n    <tr>\n      <th>4</th>\n      <td>Alice Springs</td>\n      <td>-23.7000</td>\n      <td>133.8833</td>\n      <td>Clear</td>\n      <td>clear sky</td>\n      <td>294.15</td>\n      <td>293.04</td>\n      <td>294.15</td>\n      <td>294.15</td>\n      <td>1024</td>\n      <td>28</td>\n      <td>10000</td>\n      <td>0</td>\n      <td>7.20</td>\n    </tr>\n    <tr>\n      <th>5</th>\n      <td>Williams Lake</td>\n      <td>52.1415</td>\n      <td>-122.1445</td>\n      <td>Clouds</td>\n      <td>few clouds</td>\n      <td>288.15</td>\n      <td>286.10</td>\n      <td>288.15</td>\n      <td>288.15</td>\n      <td>1005</td>\n      <td>15</td>\n      <td>10000</td>\n      <td>20</td>\n      <td>5.14</td>\n    </tr>\n    <tr>\n      <th>6</th>\n      <td>Laas</td>\n      <td>46.6166</td>\n      <td>10.7002</td>\n      <td>Clouds</td>\n      <td>overcast clouds</td>\n      <td>283.13</td>\n      <td>283.13</td>\n      <td>281.48</td>\n      <td>284.82</td>\n      <td>926</td>\n      <td>71</td>\n      <td>203</td>\n      <td>100</td>\n      <td>0.88</td>\n    </tr>\n  </tbody>\n</table>\n</div>"
     },
     "metadata": {},
     "execution_count": 32
    }
   ],
   "source": [
    "#Inspect the data and remove the cities where the humidity > 100%.\n",
    "#Skip this step if there are no cities that have humidity > 100%.\n",
    "cities_removed = cities_df[cities_df['Humidity'] < 100]\n",
    "cities_removed"
   ]
  },
  {
   "cell_type": "code",
   "execution_count": null,
   "metadata": {},
   "outputs": [],
   "source": [
    "#  Get the indices of cities that have humidity over 100%."
   ]
  },
  {
   "cell_type": "code",
   "execution_count": null,
   "metadata": {},
   "outputs": [],
   "source": [
    "# Make a new DataFrame equal to the city data to drop all humidity outliers by index.\n",
    "# Passing \"inplace=False\" will make a copy of the city_data DataFrame, which we call \"clean_city_data\"."
   ]
  },
  {
   "cell_type": "code",
   "execution_count": null,
   "metadata": {},
   "outputs": [],
   "source": [
    "#plotting the data\n",
    "#Use proper labeling of the plots using plot titles (including date of analysis) and axes labels.\n",
    "# Save the plotted figures as .pngs."
   ]
  },
  {
   "cell_type": "code",
   "execution_count": null,
   "metadata": {},
   "outputs": [],
   "source": [
    "#Latitude vs. Temperature Plot\n"
   ]
  },
  {
   "cell_type": "code",
   "execution_count": null,
   "metadata": {},
   "outputs": [],
   "source": [
    "#Latitude vs. Humidity Plot"
   ]
  },
  {
   "cell_type": "code",
   "execution_count": null,
   "metadata": {},
   "outputs": [],
   "source": [
    "#Latitude vs. Cloudiness Plot"
   ]
  },
  {
   "cell_type": "code",
   "execution_count": null,
   "metadata": {},
   "outputs": [],
   "source": [
    "#Latitude vs. Wind Speed Plot"
   ]
  },
  {
   "cell_type": "code",
   "execution_count": null,
   "metadata": {},
   "outputs": [],
   "source": [
    "#Linear Regression\n",
    "#  Northern Hemisphere - Max Temp vs. Latitude Linear Regression\n"
   ]
  },
  {
   "cell_type": "code",
   "execution_count": null,
   "metadata": {},
   "outputs": [],
   "source": [
    "#Southern Hemisphere - Max Temp vs. Latitude Linear Regression"
   ]
  },
  {
   "cell_type": "code",
   "execution_count": null,
   "metadata": {},
   "outputs": [],
   "source": [
    "# Northern Hemisphere - Humidity (%) vs. Latitude Linear Regression"
   ]
  },
  {
   "cell_type": "code",
   "execution_count": null,
   "metadata": {},
   "outputs": [],
   "source": [
    "#Southern Hemisphere - Humidity (%) vs. Latitude Linear Regression"
   ]
  },
  {
   "cell_type": "code",
   "execution_count": null,
   "metadata": {},
   "outputs": [],
   "source": [
    "#Northern Hemisphere - Cloudiness (%) vs. Latitude Linear Regression"
   ]
  },
  {
   "cell_type": "code",
   "execution_count": null,
   "metadata": {},
   "outputs": [],
   "source": [
    "#Southern Hemisphere - Cloudiness (%) vs. Latitude Linear Regression"
   ]
  },
  {
   "cell_type": "code",
   "execution_count": null,
   "metadata": {},
   "outputs": [],
   "source": [
    "# Northern Hemisphere - Wind Speed (mph) vs. Latitude Linear Regression"
   ]
  },
  {
   "cell_type": "code",
   "execution_count": null,
   "metadata": {},
   "outputs": [],
   "source": [
    "# Southern Hemisphere - Wind Speed (mph) vs. Latitude Linear Regression"
   ]
  }
 ]
}