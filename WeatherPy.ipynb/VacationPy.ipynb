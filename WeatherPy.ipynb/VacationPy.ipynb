{
 "metadata": {
  "language_info": {
   "codemirror_mode": {
    "name": "ipython",
    "version": 3
   },
   "file_extension": ".py",
   "mimetype": "text/x-python",
   "name": "python",
   "nbconvert_exporter": "python",
   "pygments_lexer": "ipython3",
   "version": "3.7.9"
  },
  "orig_nbformat": 2,
  "kernelspec": {
   "name": "python379jvsc74a57bd000603a2c3e8eb17b83d7fca558293375879bba6e0cc7e84ab094aaf79e0fa4fb",
   "display_name": "Python 3.7.9 64-bit ('pythondata': conda)"
  }
 },
 "nbformat": 4,
 "nbformat_minor": 2,
 "cells": [
  {
   "cell_type": "code",
   "execution_count": 93,
   "metadata": {},
   "outputs": [],
   "source": [
    "import matplotlib.pyplot as plt\n",
    "import pandas as pd\n",
    "import numpy as np\n",
    "import requests\n",
    "import gmaps\n",
    "import os\n",
    "\n",
    "# Import API key\n",
    "from api_keys import g_key"
   ]
  },
  {
   "cell_type": "code",
   "execution_count": 94,
   "metadata": {},
   "outputs": [
    {
     "output_type": "stream",
     "name": "stdout",
     "text": [
      "546\n"
     ]
    }
   ],
   "source": [
    "#Store Part 1 results into DataFrame\n",
    "#Load th CSV exported in Part 1 into a dataframe\n",
    "csv_path = r'cities.csv'\n",
    "cities_df = pd.read_csv(csv_path)\n",
    "print(len(cities_df))"
   ]
  },
  {
   "cell_type": "code",
   "execution_count": 95,
   "metadata": {},
   "outputs": [
    {
     "output_type": "execute_result",
     "data": {
      "text/plain": [
       "          City      LAT       LON Weather        Desription    Temp  \\\n",
       "0      Iqaluit  63.7506  -68.5145    Snow              snow  266.04   \n",
       "1     Escanaba  45.7453  -87.0646  Clouds   overcast clouds  275.01   \n",
       "2       Atuona  -9.8000 -139.0333  Clouds   overcast clouds  299.74   \n",
       "3   San Isidro -12.1167  -77.0500  Clouds  scattered clouds  290.95   \n",
       "4  East London -33.0153   27.9116   Clear         clear sky  290.15   \n",
       "\n",
       "   Temp Feels  Temp Min  Temp Max  Pressure  Humidity  Visibility  Clouds  \\\n",
       "0      258.27    265.93    266.15      1025        86       10000      90   \n",
       "1      271.07    274.82    275.15      1012        93       10000      90   \n",
       "2      299.74    299.74    299.74      1014        73       10000      95   \n",
       "3      290.93    290.37    291.48      1014        82       10000      40   \n",
       "4      290.05    290.15    290.15      1008        82       10000       0   \n",
       "\n",
       "   Wind Speed  \n",
       "0        6.69  \n",
       "1        4.12  \n",
       "2        7.45  \n",
       "3        5.14  \n",
       "4        1.03  "
      ],
      "text/html": "<div>\n<style scoped>\n    .dataframe tbody tr th:only-of-type {\n        vertical-align: middle;\n    }\n\n    .dataframe tbody tr th {\n        vertical-align: top;\n    }\n\n    .dataframe thead th {\n        text-align: right;\n    }\n</style>\n<table border=\"1\" class=\"dataframe\">\n  <thead>\n    <tr style=\"text-align: right;\">\n      <th></th>\n      <th>City</th>\n      <th>LAT</th>\n      <th>LON</th>\n      <th>Weather</th>\n      <th>Desription</th>\n      <th>Temp</th>\n      <th>Temp Feels</th>\n      <th>Temp Min</th>\n      <th>Temp Max</th>\n      <th>Pressure</th>\n      <th>Humidity</th>\n      <th>Visibility</th>\n      <th>Clouds</th>\n      <th>Wind Speed</th>\n    </tr>\n  </thead>\n  <tbody>\n    <tr>\n      <th>0</th>\n      <td>Iqaluit</td>\n      <td>63.7506</td>\n      <td>-68.5145</td>\n      <td>Snow</td>\n      <td>snow</td>\n      <td>266.04</td>\n      <td>258.27</td>\n      <td>265.93</td>\n      <td>266.15</td>\n      <td>1025</td>\n      <td>86</td>\n      <td>10000</td>\n      <td>90</td>\n      <td>6.69</td>\n    </tr>\n    <tr>\n      <th>1</th>\n      <td>Escanaba</td>\n      <td>45.7453</td>\n      <td>-87.0646</td>\n      <td>Clouds</td>\n      <td>overcast clouds</td>\n      <td>275.01</td>\n      <td>271.07</td>\n      <td>274.82</td>\n      <td>275.15</td>\n      <td>1012</td>\n      <td>93</td>\n      <td>10000</td>\n      <td>90</td>\n      <td>4.12</td>\n    </tr>\n    <tr>\n      <th>2</th>\n      <td>Atuona</td>\n      <td>-9.8000</td>\n      <td>-139.0333</td>\n      <td>Clouds</td>\n      <td>overcast clouds</td>\n      <td>299.74</td>\n      <td>299.74</td>\n      <td>299.74</td>\n      <td>299.74</td>\n      <td>1014</td>\n      <td>73</td>\n      <td>10000</td>\n      <td>95</td>\n      <td>7.45</td>\n    </tr>\n    <tr>\n      <th>3</th>\n      <td>San Isidro</td>\n      <td>-12.1167</td>\n      <td>-77.0500</td>\n      <td>Clouds</td>\n      <td>scattered clouds</td>\n      <td>290.95</td>\n      <td>290.93</td>\n      <td>290.37</td>\n      <td>291.48</td>\n      <td>1014</td>\n      <td>82</td>\n      <td>10000</td>\n      <td>40</td>\n      <td>5.14</td>\n    </tr>\n    <tr>\n      <th>4</th>\n      <td>East London</td>\n      <td>-33.0153</td>\n      <td>27.9116</td>\n      <td>Clear</td>\n      <td>clear sky</td>\n      <td>290.15</td>\n      <td>290.05</td>\n      <td>290.15</td>\n      <td>290.15</td>\n      <td>1008</td>\n      <td>82</td>\n      <td>10000</td>\n      <td>0</td>\n      <td>1.03</td>\n    </tr>\n  </tbody>\n</table>\n</div>"
     },
     "metadata": {},
     "execution_count": 95
    }
   ],
   "source": [
    "cities_df.head()"
   ]
  },
  {
   "cell_type": "code",
   "execution_count": 96,
   "metadata": {},
   "outputs": [
    {
     "output_type": "display_data",
     "data": {
      "text/plain": "Figure(layout=FigureLayout(height='420px'))",
      "application/vnd.jupyter.widget-view+json": {
       "version_major": 2,
       "version_minor": 0,
       "model_id": "c0f49c79aad4487eba2fe19e197cff59"
      }
     },
     "metadata": {}
    }
   ],
   "source": [
    "#Configure gmaps.\n",
    "gmaps.configure(api_key=g_key)\n",
    "# Use the Lat and Lng as locations and Humidity as the weight.\n",
    "locations = cities_df[[\"LAT\", \"LON\"]].astype(float)\n",
    "humidity = cities_df[\"Humidity\"].astype(float)\n",
    "# Add Heatmap layer to map.\n",
    "fig = gmaps.figure()\n",
    "\n",
    "heat_layer = gmaps.heatmap_layer(locations, weights=humidity, \n",
    "                                 dissipating=False, max_intensity=100,\n",
    "                                 point_radius = 1)\n",
    "\n",
    "fig.add_layer(heat_layer)\n",
    "fig"
   ]
  },
  {
   "cell_type": "code",
   "execution_count": 101,
   "metadata": {},
   "outputs": [
    {
     "output_type": "execute_result",
     "data": {
      "text/plain": [
       "              City      LAT       LON Weather Desription    Temp  Temp Feels  \\\n",
       "43           Yanta  36.2411  115.6672   Clear  clear sky  298.59      297.48   \n",
       "57   Cockburn Town  21.4612  -71.1419   Clear  clear sky  298.70      299.27   \n",
       "118     San Miguel  13.4833  -88.1833   Clear  clear sky  299.06      299.72   \n",
       "131        Bissorã  12.2231  -15.4475   Clear  clear sky  295.15      295.70   \n",
       "143         Ormara  25.2088   64.6357   Clear  clear sky  301.80      304.80   \n",
       "150         Nurota  40.5614   65.6886   Clear  clear sky  301.15      299.92   \n",
       "169  Alice Springs -23.7000  133.8833   Clear  clear sky  297.69      296.70   \n",
       "179      Carnarvon -24.8667  113.6333   Clear  clear sky  301.15      300.75   \n",
       "233      Abu Dhabi  24.4667   54.3667   Clear  clear sky  305.15      303.13   \n",
       "263         Tanout  14.9709    8.8879   Clear  clear sky  300.05      298.98   \n",
       "277         Riyadh  24.6877   46.7219   Clear  clear sky  300.04      299.11   \n",
       "300    Keti Bandar  24.1447   67.4497   Clear  clear sky  303.45      305.36   \n",
       "317        Ardakān  32.3100   54.0175   Clear  clear sky  296.15      295.32   \n",
       "352          Pasni  25.2631   63.4710   Clear  clear sky  301.72      304.04   \n",
       "389       Rockwall  32.9001  -96.4003   Clear  clear sky  294.32      294.16   \n",
       "414       Buraidah  26.3260   43.9750   Clear  clear sky  298.15      298.01   \n",
       "477      Les Cayes  18.2000  -73.7500   Clear  clear sky  296.42      297.02   \n",
       "480         Yulara -25.2406  130.9889   Clear  clear sky  299.15      299.15   \n",
       "511         Taylor  32.3001  -99.8337   Clear  clear sky  296.31      296.07   \n",
       "527          Kidal  18.4411    1.4078   Clear  clear sky  301.74      300.55   \n",
       "\n",
       "     Temp Min  Temp Max  Pressure  Humidity  Visibility  Clouds  Wind Speed  \n",
       "43     298.59    298.59      1016        11       10000       1        5.39  \n",
       "57     298.70    298.70      1015        75       10000       1        6.15  \n",
       "118    299.06    299.06      1012        77       10000       0        0.40  \n",
       "131    295.15    295.15      1008        88       10000       0        1.54  \n",
       "143    301.80    301.80      1009        68       10000       2        2.42  \n",
       "150    301.15    301.15      1012        21        8000       0       10.29  \n",
       "169    296.48    299.15      1021        19       10000       0        5.14  \n",
       "179    301.15    301.15      1017        39       10000       0        3.09  \n",
       "233    305.15    305.15      1008        20       10000       0        2.57  \n",
       "263    300.05    300.05      1008        12       10000       1        4.21  \n",
       "277    298.15    301.15      1011        18       10000       0        4.98  \n",
       "300    303.45    303.45      1009        54       10000       0        4.97  \n",
       "317    296.15    296.15      1018        31       10000       0        1.03  \n",
       "352    301.72    301.72      1009        64       10000       5        1.83  \n",
       "389    293.71    294.82      1010        64       10000       1        5.14  \n",
       "414    298.15    298.15      1010        50       10000       0        1.03  \n",
       "477    296.42    296.42      1014        85       10000       0        1.85  \n",
       "480    299.15    299.15      1021        19       10000       0        4.63  \n",
       "511    294.82    298.15      1007        53       10000       1       10.29  \n",
       "527    301.74    301.74      1007        27       10000       3        2.41  "
      ],
      "text/html": "<div>\n<style scoped>\n    .dataframe tbody tr th:only-of-type {\n        vertical-align: middle;\n    }\n\n    .dataframe tbody tr th {\n        vertical-align: top;\n    }\n\n    .dataframe thead th {\n        text-align: right;\n    }\n</style>\n<table border=\"1\" class=\"dataframe\">\n  <thead>\n    <tr style=\"text-align: right;\">\n      <th></th>\n      <th>City</th>\n      <th>LAT</th>\n      <th>LON</th>\n      <th>Weather</th>\n      <th>Desription</th>\n      <th>Temp</th>\n      <th>Temp Feels</th>\n      <th>Temp Min</th>\n      <th>Temp Max</th>\n      <th>Pressure</th>\n      <th>Humidity</th>\n      <th>Visibility</th>\n      <th>Clouds</th>\n      <th>Wind Speed</th>\n    </tr>\n  </thead>\n  <tbody>\n    <tr>\n      <th>43</th>\n      <td>Yanta</td>\n      <td>36.2411</td>\n      <td>115.6672</td>\n      <td>Clear</td>\n      <td>clear sky</td>\n      <td>298.59</td>\n      <td>297.48</td>\n      <td>298.59</td>\n      <td>298.59</td>\n      <td>1016</td>\n      <td>11</td>\n      <td>10000</td>\n      <td>1</td>\n      <td>5.39</td>\n    </tr>\n    <tr>\n      <th>57</th>\n      <td>Cockburn Town</td>\n      <td>21.4612</td>\n      <td>-71.1419</td>\n      <td>Clear</td>\n      <td>clear sky</td>\n      <td>298.70</td>\n      <td>299.27</td>\n      <td>298.70</td>\n      <td>298.70</td>\n      <td>1015</td>\n      <td>75</td>\n      <td>10000</td>\n      <td>1</td>\n      <td>6.15</td>\n    </tr>\n    <tr>\n      <th>118</th>\n      <td>San Miguel</td>\n      <td>13.4833</td>\n      <td>-88.1833</td>\n      <td>Clear</td>\n      <td>clear sky</td>\n      <td>299.06</td>\n      <td>299.72</td>\n      <td>299.06</td>\n      <td>299.06</td>\n      <td>1012</td>\n      <td>77</td>\n      <td>10000</td>\n      <td>0</td>\n      <td>0.40</td>\n    </tr>\n    <tr>\n      <th>131</th>\n      <td>Bissorã</td>\n      <td>12.2231</td>\n      <td>-15.4475</td>\n      <td>Clear</td>\n      <td>clear sky</td>\n      <td>295.15</td>\n      <td>295.70</td>\n      <td>295.15</td>\n      <td>295.15</td>\n      <td>1008</td>\n      <td>88</td>\n      <td>10000</td>\n      <td>0</td>\n      <td>1.54</td>\n    </tr>\n    <tr>\n      <th>143</th>\n      <td>Ormara</td>\n      <td>25.2088</td>\n      <td>64.6357</td>\n      <td>Clear</td>\n      <td>clear sky</td>\n      <td>301.80</td>\n      <td>304.80</td>\n      <td>301.80</td>\n      <td>301.80</td>\n      <td>1009</td>\n      <td>68</td>\n      <td>10000</td>\n      <td>2</td>\n      <td>2.42</td>\n    </tr>\n    <tr>\n      <th>150</th>\n      <td>Nurota</td>\n      <td>40.5614</td>\n      <td>65.6886</td>\n      <td>Clear</td>\n      <td>clear sky</td>\n      <td>301.15</td>\n      <td>299.92</td>\n      <td>301.15</td>\n      <td>301.15</td>\n      <td>1012</td>\n      <td>21</td>\n      <td>8000</td>\n      <td>0</td>\n      <td>10.29</td>\n    </tr>\n    <tr>\n      <th>169</th>\n      <td>Alice Springs</td>\n      <td>-23.7000</td>\n      <td>133.8833</td>\n      <td>Clear</td>\n      <td>clear sky</td>\n      <td>297.69</td>\n      <td>296.70</td>\n      <td>296.48</td>\n      <td>299.15</td>\n      <td>1021</td>\n      <td>19</td>\n      <td>10000</td>\n      <td>0</td>\n      <td>5.14</td>\n    </tr>\n    <tr>\n      <th>179</th>\n      <td>Carnarvon</td>\n      <td>-24.8667</td>\n      <td>113.6333</td>\n      <td>Clear</td>\n      <td>clear sky</td>\n      <td>301.15</td>\n      <td>300.75</td>\n      <td>301.15</td>\n      <td>301.15</td>\n      <td>1017</td>\n      <td>39</td>\n      <td>10000</td>\n      <td>0</td>\n      <td>3.09</td>\n    </tr>\n    <tr>\n      <th>233</th>\n      <td>Abu Dhabi</td>\n      <td>24.4667</td>\n      <td>54.3667</td>\n      <td>Clear</td>\n      <td>clear sky</td>\n      <td>305.15</td>\n      <td>303.13</td>\n      <td>305.15</td>\n      <td>305.15</td>\n      <td>1008</td>\n      <td>20</td>\n      <td>10000</td>\n      <td>0</td>\n      <td>2.57</td>\n    </tr>\n    <tr>\n      <th>263</th>\n      <td>Tanout</td>\n      <td>14.9709</td>\n      <td>8.8879</td>\n      <td>Clear</td>\n      <td>clear sky</td>\n      <td>300.05</td>\n      <td>298.98</td>\n      <td>300.05</td>\n      <td>300.05</td>\n      <td>1008</td>\n      <td>12</td>\n      <td>10000</td>\n      <td>1</td>\n      <td>4.21</td>\n    </tr>\n    <tr>\n      <th>277</th>\n      <td>Riyadh</td>\n      <td>24.6877</td>\n      <td>46.7219</td>\n      <td>Clear</td>\n      <td>clear sky</td>\n      <td>300.04</td>\n      <td>299.11</td>\n      <td>298.15</td>\n      <td>301.15</td>\n      <td>1011</td>\n      <td>18</td>\n      <td>10000</td>\n      <td>0</td>\n      <td>4.98</td>\n    </tr>\n    <tr>\n      <th>300</th>\n      <td>Keti Bandar</td>\n      <td>24.1447</td>\n      <td>67.4497</td>\n      <td>Clear</td>\n      <td>clear sky</td>\n      <td>303.45</td>\n      <td>305.36</td>\n      <td>303.45</td>\n      <td>303.45</td>\n      <td>1009</td>\n      <td>54</td>\n      <td>10000</td>\n      <td>0</td>\n      <td>4.97</td>\n    </tr>\n    <tr>\n      <th>317</th>\n      <td>Ardakān</td>\n      <td>32.3100</td>\n      <td>54.0175</td>\n      <td>Clear</td>\n      <td>clear sky</td>\n      <td>296.15</td>\n      <td>295.32</td>\n      <td>296.15</td>\n      <td>296.15</td>\n      <td>1018</td>\n      <td>31</td>\n      <td>10000</td>\n      <td>0</td>\n      <td>1.03</td>\n    </tr>\n    <tr>\n      <th>352</th>\n      <td>Pasni</td>\n      <td>25.2631</td>\n      <td>63.4710</td>\n      <td>Clear</td>\n      <td>clear sky</td>\n      <td>301.72</td>\n      <td>304.04</td>\n      <td>301.72</td>\n      <td>301.72</td>\n      <td>1009</td>\n      <td>64</td>\n      <td>10000</td>\n      <td>5</td>\n      <td>1.83</td>\n    </tr>\n    <tr>\n      <th>389</th>\n      <td>Rockwall</td>\n      <td>32.9001</td>\n      <td>-96.4003</td>\n      <td>Clear</td>\n      <td>clear sky</td>\n      <td>294.32</td>\n      <td>294.16</td>\n      <td>293.71</td>\n      <td>294.82</td>\n      <td>1010</td>\n      <td>64</td>\n      <td>10000</td>\n      <td>1</td>\n      <td>5.14</td>\n    </tr>\n    <tr>\n      <th>414</th>\n      <td>Buraidah</td>\n      <td>26.3260</td>\n      <td>43.9750</td>\n      <td>Clear</td>\n      <td>clear sky</td>\n      <td>298.15</td>\n      <td>298.01</td>\n      <td>298.15</td>\n      <td>298.15</td>\n      <td>1010</td>\n      <td>50</td>\n      <td>10000</td>\n      <td>0</td>\n      <td>1.03</td>\n    </tr>\n    <tr>\n      <th>477</th>\n      <td>Les Cayes</td>\n      <td>18.2000</td>\n      <td>-73.7500</td>\n      <td>Clear</td>\n      <td>clear sky</td>\n      <td>296.42</td>\n      <td>297.02</td>\n      <td>296.42</td>\n      <td>296.42</td>\n      <td>1014</td>\n      <td>85</td>\n      <td>10000</td>\n      <td>0</td>\n      <td>1.85</td>\n    </tr>\n    <tr>\n      <th>480</th>\n      <td>Yulara</td>\n      <td>-25.2406</td>\n      <td>130.9889</td>\n      <td>Clear</td>\n      <td>clear sky</td>\n      <td>299.15</td>\n      <td>299.15</td>\n      <td>299.15</td>\n      <td>299.15</td>\n      <td>1021</td>\n      <td>19</td>\n      <td>10000</td>\n      <td>0</td>\n      <td>4.63</td>\n    </tr>\n    <tr>\n      <th>511</th>\n      <td>Taylor</td>\n      <td>32.3001</td>\n      <td>-99.8337</td>\n      <td>Clear</td>\n      <td>clear sky</td>\n      <td>296.31</td>\n      <td>296.07</td>\n      <td>294.82</td>\n      <td>298.15</td>\n      <td>1007</td>\n      <td>53</td>\n      <td>10000</td>\n      <td>1</td>\n      <td>10.29</td>\n    </tr>\n    <tr>\n      <th>527</th>\n      <td>Kidal</td>\n      <td>18.4411</td>\n      <td>1.4078</td>\n      <td>Clear</td>\n      <td>clear sky</td>\n      <td>301.74</td>\n      <td>300.55</td>\n      <td>301.74</td>\n      <td>301.74</td>\n      <td>1007</td>\n      <td>27</td>\n      <td>10000</td>\n      <td>3</td>\n      <td>2.41</td>\n    </tr>\n  </tbody>\n</table>\n</div>"
     },
     "metadata": {},
     "execution_count": 101
    }
   ],
   "source": [
    "#CREATE NEW DATA FRAME FITTING WEATHER CRITERIA\n",
    "#Narrow down the cities to fit weather conditions.\n",
    "#ideal weather conditions are between 70-90 degrees F (the measurements are in Kelvin)\n",
    "ideal_weather= cities_df.loc[(cities_df['Temp'] <= 305.72) & (cities_df['Temp'] >= 294.26) & (cities_df['Clouds'] <=5)]\n",
    "\n",
    "# Drop any rows will null values.\n",
    "ideal_weather.dropna()\n",
    "ideal_weather"
   ]
  },
  {
   "cell_type": "code",
   "execution_count": 102,
   "metadata": {},
   "outputs": [
    {
     "output_type": "execute_result",
     "data": {
      "text/plain": [
       "              City      LAT       LON Weather Desription    Temp  Temp Feels  \\\n",
       "43           Yanta  36.2411  115.6672   Clear  clear sky  298.59      297.48   \n",
       "57   Cockburn Town  21.4612  -71.1419   Clear  clear sky  298.70      299.27   \n",
       "118     San Miguel  13.4833  -88.1833   Clear  clear sky  299.06      299.72   \n",
       "131        Bissorã  12.2231  -15.4475   Clear  clear sky  295.15      295.70   \n",
       "143         Ormara  25.2088   64.6357   Clear  clear sky  301.80      304.80   \n",
       "150         Nurota  40.5614   65.6886   Clear  clear sky  301.15      299.92   \n",
       "169  Alice Springs -23.7000  133.8833   Clear  clear sky  297.69      296.70   \n",
       "179      Carnarvon -24.8667  113.6333   Clear  clear sky  301.15      300.75   \n",
       "233      Abu Dhabi  24.4667   54.3667   Clear  clear sky  305.15      303.13   \n",
       "263         Tanout  14.9709    8.8879   Clear  clear sky  300.05      298.98   \n",
       "277         Riyadh  24.6877   46.7219   Clear  clear sky  300.04      299.11   \n",
       "300    Keti Bandar  24.1447   67.4497   Clear  clear sky  303.45      305.36   \n",
       "317        Ardakān  32.3100   54.0175   Clear  clear sky  296.15      295.32   \n",
       "352          Pasni  25.2631   63.4710   Clear  clear sky  301.72      304.04   \n",
       "389       Rockwall  32.9001  -96.4003   Clear  clear sky  294.32      294.16   \n",
       "414       Buraidah  26.3260   43.9750   Clear  clear sky  298.15      298.01   \n",
       "477      Les Cayes  18.2000  -73.7500   Clear  clear sky  296.42      297.02   \n",
       "480         Yulara -25.2406  130.9889   Clear  clear sky  299.15      299.15   \n",
       "511         Taylor  32.3001  -99.8337   Clear  clear sky  296.31      296.07   \n",
       "527          Kidal  18.4411    1.4078   Clear  clear sky  301.74      300.55   \n",
       "\n",
       "     Temp Min  Temp Max  Pressure  Humidity  Visibility  Clouds  Wind Speed  \\\n",
       "43     298.59    298.59      1016        11       10000       1        5.39   \n",
       "57     298.70    298.70      1015        75       10000       1        6.15   \n",
       "118    299.06    299.06      1012        77       10000       0        0.40   \n",
       "131    295.15    295.15      1008        88       10000       0        1.54   \n",
       "143    301.80    301.80      1009        68       10000       2        2.42   \n",
       "150    301.15    301.15      1012        21        8000       0       10.29   \n",
       "169    296.48    299.15      1021        19       10000       0        5.14   \n",
       "179    301.15    301.15      1017        39       10000       0        3.09   \n",
       "233    305.15    305.15      1008        20       10000       0        2.57   \n",
       "263    300.05    300.05      1008        12       10000       1        4.21   \n",
       "277    298.15    301.15      1011        18       10000       0        4.98   \n",
       "300    303.45    303.45      1009        54       10000       0        4.97   \n",
       "317    296.15    296.15      1018        31       10000       0        1.03   \n",
       "352    301.72    301.72      1009        64       10000       5        1.83   \n",
       "389    293.71    294.82      1010        64       10000       1        5.14   \n",
       "414    298.15    298.15      1010        50       10000       0        1.03   \n",
       "477    296.42    296.42      1014        85       10000       0        1.85   \n",
       "480    299.15    299.15      1021        19       10000       0        4.63   \n",
       "511    294.82    298.15      1007        53       10000       1       10.29   \n",
       "527    301.74    301.74      1007        27       10000       3        2.41   \n",
       "\n",
       "    Hotel Name  \n",
       "43              \n",
       "57              \n",
       "118             \n",
       "131             \n",
       "143             \n",
       "150             \n",
       "169             \n",
       "179             \n",
       "233             \n",
       "263             \n",
       "277             \n",
       "300             \n",
       "317             \n",
       "352             \n",
       "389             \n",
       "414             \n",
       "477             \n",
       "480             \n",
       "511             \n",
       "527             "
      ],
      "text/html": "<div>\n<style scoped>\n    .dataframe tbody tr th:only-of-type {\n        vertical-align: middle;\n    }\n\n    .dataframe tbody tr th {\n        vertical-align: top;\n    }\n\n    .dataframe thead th {\n        text-align: right;\n    }\n</style>\n<table border=\"1\" class=\"dataframe\">\n  <thead>\n    <tr style=\"text-align: right;\">\n      <th></th>\n      <th>City</th>\n      <th>LAT</th>\n      <th>LON</th>\n      <th>Weather</th>\n      <th>Desription</th>\n      <th>Temp</th>\n      <th>Temp Feels</th>\n      <th>Temp Min</th>\n      <th>Temp Max</th>\n      <th>Pressure</th>\n      <th>Humidity</th>\n      <th>Visibility</th>\n      <th>Clouds</th>\n      <th>Wind Speed</th>\n      <th>Hotel Name</th>\n    </tr>\n  </thead>\n  <tbody>\n    <tr>\n      <th>43</th>\n      <td>Yanta</td>\n      <td>36.2411</td>\n      <td>115.6672</td>\n      <td>Clear</td>\n      <td>clear sky</td>\n      <td>298.59</td>\n      <td>297.48</td>\n      <td>298.59</td>\n      <td>298.59</td>\n      <td>1016</td>\n      <td>11</td>\n      <td>10000</td>\n      <td>1</td>\n      <td>5.39</td>\n      <td></td>\n    </tr>\n    <tr>\n      <th>57</th>\n      <td>Cockburn Town</td>\n      <td>21.4612</td>\n      <td>-71.1419</td>\n      <td>Clear</td>\n      <td>clear sky</td>\n      <td>298.70</td>\n      <td>299.27</td>\n      <td>298.70</td>\n      <td>298.70</td>\n      <td>1015</td>\n      <td>75</td>\n      <td>10000</td>\n      <td>1</td>\n      <td>6.15</td>\n      <td></td>\n    </tr>\n    <tr>\n      <th>118</th>\n      <td>San Miguel</td>\n      <td>13.4833</td>\n      <td>-88.1833</td>\n      <td>Clear</td>\n      <td>clear sky</td>\n      <td>299.06</td>\n      <td>299.72</td>\n      <td>299.06</td>\n      <td>299.06</td>\n      <td>1012</td>\n      <td>77</td>\n      <td>10000</td>\n      <td>0</td>\n      <td>0.40</td>\n      <td></td>\n    </tr>\n    <tr>\n      <th>131</th>\n      <td>Bissorã</td>\n      <td>12.2231</td>\n      <td>-15.4475</td>\n      <td>Clear</td>\n      <td>clear sky</td>\n      <td>295.15</td>\n      <td>295.70</td>\n      <td>295.15</td>\n      <td>295.15</td>\n      <td>1008</td>\n      <td>88</td>\n      <td>10000</td>\n      <td>0</td>\n      <td>1.54</td>\n      <td></td>\n    </tr>\n    <tr>\n      <th>143</th>\n      <td>Ormara</td>\n      <td>25.2088</td>\n      <td>64.6357</td>\n      <td>Clear</td>\n      <td>clear sky</td>\n      <td>301.80</td>\n      <td>304.80</td>\n      <td>301.80</td>\n      <td>301.80</td>\n      <td>1009</td>\n      <td>68</td>\n      <td>10000</td>\n      <td>2</td>\n      <td>2.42</td>\n      <td></td>\n    </tr>\n    <tr>\n      <th>150</th>\n      <td>Nurota</td>\n      <td>40.5614</td>\n      <td>65.6886</td>\n      <td>Clear</td>\n      <td>clear sky</td>\n      <td>301.15</td>\n      <td>299.92</td>\n      <td>301.15</td>\n      <td>301.15</td>\n      <td>1012</td>\n      <td>21</td>\n      <td>8000</td>\n      <td>0</td>\n      <td>10.29</td>\n      <td></td>\n    </tr>\n    <tr>\n      <th>169</th>\n      <td>Alice Springs</td>\n      <td>-23.7000</td>\n      <td>133.8833</td>\n      <td>Clear</td>\n      <td>clear sky</td>\n      <td>297.69</td>\n      <td>296.70</td>\n      <td>296.48</td>\n      <td>299.15</td>\n      <td>1021</td>\n      <td>19</td>\n      <td>10000</td>\n      <td>0</td>\n      <td>5.14</td>\n      <td></td>\n    </tr>\n    <tr>\n      <th>179</th>\n      <td>Carnarvon</td>\n      <td>-24.8667</td>\n      <td>113.6333</td>\n      <td>Clear</td>\n      <td>clear sky</td>\n      <td>301.15</td>\n      <td>300.75</td>\n      <td>301.15</td>\n      <td>301.15</td>\n      <td>1017</td>\n      <td>39</td>\n      <td>10000</td>\n      <td>0</td>\n      <td>3.09</td>\n      <td></td>\n    </tr>\n    <tr>\n      <th>233</th>\n      <td>Abu Dhabi</td>\n      <td>24.4667</td>\n      <td>54.3667</td>\n      <td>Clear</td>\n      <td>clear sky</td>\n      <td>305.15</td>\n      <td>303.13</td>\n      <td>305.15</td>\n      <td>305.15</td>\n      <td>1008</td>\n      <td>20</td>\n      <td>10000</td>\n      <td>0</td>\n      <td>2.57</td>\n      <td></td>\n    </tr>\n    <tr>\n      <th>263</th>\n      <td>Tanout</td>\n      <td>14.9709</td>\n      <td>8.8879</td>\n      <td>Clear</td>\n      <td>clear sky</td>\n      <td>300.05</td>\n      <td>298.98</td>\n      <td>300.05</td>\n      <td>300.05</td>\n      <td>1008</td>\n      <td>12</td>\n      <td>10000</td>\n      <td>1</td>\n      <td>4.21</td>\n      <td></td>\n    </tr>\n    <tr>\n      <th>277</th>\n      <td>Riyadh</td>\n      <td>24.6877</td>\n      <td>46.7219</td>\n      <td>Clear</td>\n      <td>clear sky</td>\n      <td>300.04</td>\n      <td>299.11</td>\n      <td>298.15</td>\n      <td>301.15</td>\n      <td>1011</td>\n      <td>18</td>\n      <td>10000</td>\n      <td>0</td>\n      <td>4.98</td>\n      <td></td>\n    </tr>\n    <tr>\n      <th>300</th>\n      <td>Keti Bandar</td>\n      <td>24.1447</td>\n      <td>67.4497</td>\n      <td>Clear</td>\n      <td>clear sky</td>\n      <td>303.45</td>\n      <td>305.36</td>\n      <td>303.45</td>\n      <td>303.45</td>\n      <td>1009</td>\n      <td>54</td>\n      <td>10000</td>\n      <td>0</td>\n      <td>4.97</td>\n      <td></td>\n    </tr>\n    <tr>\n      <th>317</th>\n      <td>Ardakān</td>\n      <td>32.3100</td>\n      <td>54.0175</td>\n      <td>Clear</td>\n      <td>clear sky</td>\n      <td>296.15</td>\n      <td>295.32</td>\n      <td>296.15</td>\n      <td>296.15</td>\n      <td>1018</td>\n      <td>31</td>\n      <td>10000</td>\n      <td>0</td>\n      <td>1.03</td>\n      <td></td>\n    </tr>\n    <tr>\n      <th>352</th>\n      <td>Pasni</td>\n      <td>25.2631</td>\n      <td>63.4710</td>\n      <td>Clear</td>\n      <td>clear sky</td>\n      <td>301.72</td>\n      <td>304.04</td>\n      <td>301.72</td>\n      <td>301.72</td>\n      <td>1009</td>\n      <td>64</td>\n      <td>10000</td>\n      <td>5</td>\n      <td>1.83</td>\n      <td></td>\n    </tr>\n    <tr>\n      <th>389</th>\n      <td>Rockwall</td>\n      <td>32.9001</td>\n      <td>-96.4003</td>\n      <td>Clear</td>\n      <td>clear sky</td>\n      <td>294.32</td>\n      <td>294.16</td>\n      <td>293.71</td>\n      <td>294.82</td>\n      <td>1010</td>\n      <td>64</td>\n      <td>10000</td>\n      <td>1</td>\n      <td>5.14</td>\n      <td></td>\n    </tr>\n    <tr>\n      <th>414</th>\n      <td>Buraidah</td>\n      <td>26.3260</td>\n      <td>43.9750</td>\n      <td>Clear</td>\n      <td>clear sky</td>\n      <td>298.15</td>\n      <td>298.01</td>\n      <td>298.15</td>\n      <td>298.15</td>\n      <td>1010</td>\n      <td>50</td>\n      <td>10000</td>\n      <td>0</td>\n      <td>1.03</td>\n      <td></td>\n    </tr>\n    <tr>\n      <th>477</th>\n      <td>Les Cayes</td>\n      <td>18.2000</td>\n      <td>-73.7500</td>\n      <td>Clear</td>\n      <td>clear sky</td>\n      <td>296.42</td>\n      <td>297.02</td>\n      <td>296.42</td>\n      <td>296.42</td>\n      <td>1014</td>\n      <td>85</td>\n      <td>10000</td>\n      <td>0</td>\n      <td>1.85</td>\n      <td></td>\n    </tr>\n    <tr>\n      <th>480</th>\n      <td>Yulara</td>\n      <td>-25.2406</td>\n      <td>130.9889</td>\n      <td>Clear</td>\n      <td>clear sky</td>\n      <td>299.15</td>\n      <td>299.15</td>\n      <td>299.15</td>\n      <td>299.15</td>\n      <td>1021</td>\n      <td>19</td>\n      <td>10000</td>\n      <td>0</td>\n      <td>4.63</td>\n      <td></td>\n    </tr>\n    <tr>\n      <th>511</th>\n      <td>Taylor</td>\n      <td>32.3001</td>\n      <td>-99.8337</td>\n      <td>Clear</td>\n      <td>clear sky</td>\n      <td>296.31</td>\n      <td>296.07</td>\n      <td>294.82</td>\n      <td>298.15</td>\n      <td>1007</td>\n      <td>53</td>\n      <td>10000</td>\n      <td>1</td>\n      <td>10.29</td>\n      <td></td>\n    </tr>\n    <tr>\n      <th>527</th>\n      <td>Kidal</td>\n      <td>18.4411</td>\n      <td>1.4078</td>\n      <td>Clear</td>\n      <td>clear sky</td>\n      <td>301.74</td>\n      <td>300.55</td>\n      <td>301.74</td>\n      <td>301.74</td>\n      <td>1007</td>\n      <td>27</td>\n      <td>10000</td>\n      <td>3</td>\n      <td>2.41</td>\n      <td></td>\n    </tr>\n  </tbody>\n</table>\n</div>"
     },
     "metadata": {},
     "execution_count": 102
    }
   ],
   "source": [
    "#HOTEL MAP\n",
    "#Store into variable named hotel_df.\n",
    "# Add a \"Hotel Name\" column to the DataFrame.\n",
    "hotel_df = pd.DataFrame(ideal_weather)\n",
    "hotel_df.insert(14,'Hotel Name', value = '')\n",
    "hotel_df"
   ]
  },
  {
   "cell_type": "code",
   "execution_count": 108,
   "metadata": {},
   "outputs": [
    {
     "output_type": "stream",
     "name": "stdout",
     "text": [
      "{'html_attributions': [], 'next_page_token': 'ATtYBwKDpVkcOAvKTnYmXjwt83HP6yL2bOGbaIqYwTJNrvWxWXzGvSDIQ1D042Y1-psIsnZFDfiNTJlB0W17mQ9Xx_iSbTP99Cats21hrm73iEGbUbA9avYFIqPxxvu-Sq5aXGyFxV92ScNW9aQq_hl0qfIBZkKFfsbw3kWG9lwdlABOC0kxSQL42RPn0ivJfWdp3hKI1wUxaTu0PUNmH2kc5Gd1Ix3J1h7XQf1-GJQU3pITb3BO9FhrDSWmHV3udk4HSiBmN0Z_iGrLVI0iq0XuxZL4hO-fjpxYkfXMvoGc1QsVgTst_sR1FW0c8OOuP0HnJrwf3Kh7LmIm9yyrA_T4ratUeQTRNjXv5i5y5aE5y3YKvx0MZqj_60r6E1HfNZ6myGMSSjQVEQVCGU8q-1NvI67RegQL4YLwUUvkOv3HlW9yXLClGHwOx03sTWk', 'results': [{'business_status': 'OPERATIONAL', 'geometry': {'location': {'lat': 36.24107199999999, 'lng': 115.666995}, 'viewport': {'northeast': {'lat': 36.2424333302915, 'lng': 115.6682543302915}, 'southwest': {'lat': 36.2397353697085, 'lng': 115.6655563697085}}}, 'icon': 'https://maps.gstatic.com/mapfiles/place_api/icons/v1/png_71/lodging-71.png', 'name': 'Jufude Hotel', 'place_id': 'ChIJ2ziLldMywzURvRPujGM16NA', 'plus_code': {'compound_code': '6MR8+CQ Shen County, Liaocheng, Shandong, China', 'global_code': '8P8Q6MR8+CQ'}, 'reference': 'ChIJ2ziLldMywzURvRPujGM16NA', 'scope': 'GOOGLE', 'types': ['lodging', 'point_of_interest', 'establishment'], 'vicinity': 'Zhen Xing Jie, Shenxian, Liaocheng Shi'}, {'business_status': 'OPERATIONAL', 'geometry': {'location': {'lat': 36.241356, 'lng': 115.665825}, 'viewport': {'northeast': {'lat': 36.2426395802915, 'lng': 115.6676491802915}, 'southwest': {'lat': 36.2399416197085, 'lng': 115.6649512197085}}}, 'icon': 'https://maps.gstatic.com/mapfiles/place_api/icons/v1/png_71/lodging-71.png', 'name': 'Hanlin Boutique Hotel', 'place_id': 'ChIJAYsCoNMywzUR0yCZVmakuqY', 'plus_code': {'compound_code': '6MR8+G8 Shen County, Liaocheng, Shandong, China', 'global_code': '8P8Q6MR8+G8'}, 'reference': 'ChIJAYsCoNMywzUR0yCZVmakuqY', 'scope': 'GOOGLE', 'types': ['lodging', 'point_of_interest', 'establishment'], 'vicinity': 'Northwest corner of government street land office intersection, 莘县'}, {'business_status': 'OPERATIONAL', 'geometry': {'location': {'lat': 36.2393853, 'lng': 115.6645315}, 'viewport': {'northeast': {'lat': 36.24077768029149, 'lng': 115.6658942802915}, 'southwest': {'lat': 36.2380797197085, 'lng': 115.6631963197085}}}, 'icon': 'https://maps.gstatic.com/mapfiles/place_api/icons/v1/png_71/lodging-71.png', 'name': 'Huachang Hotel', 'place_id': 'ChIJ10ZVlNQywzURuWD7M5mtxuI', 'plus_code': {'compound_code': '6MQ7+QR Shen County, Liaocheng, Shandong, China', 'global_code': '8P8Q6MQ7+QR'}, 'reference': 'ChIJ10ZVlNQywzURuWD7M5mtxuI', 'scope': 'GOOGLE', 'types': ['lodging', 'point_of_interest', 'establishment'], 'vicinity': 'Zhen Xing Jie, Shenxian, Liaocheng Shi'}, {'business_status': 'OPERATIONAL', 'geometry': {'location': {'lat': 36.238389, 'lng': 115.6692302}, 'viewport': {'northeast': {'lat': 36.2397812802915, 'lng': 115.6705934302915}, 'southwest': {'lat': 36.2370833197085, 'lng': 115.6678954697085}}}, 'icon': 'https://maps.gstatic.com/mapfiles/place_api/icons/v1/png_71/lodging-71.png', 'name': 'Zhenxing Hotel', 'place_id': 'ChIJh3Xqo9YywzURZtpP4g10A7g', 'plus_code': {'compound_code': '6MQ9+9M Shen County, Liaocheng, Shandong, China', 'global_code': '8P8Q6MQ9+9M'}, 'reference': 'ChIJh3Xqo9YywzURZtpP4g10A7g', 'scope': 'GOOGLE', 'types': ['lodging', 'point_of_interest', 'establishment'], 'vicinity': 'Zhen Xing Jie, Shenxian, Liaocheng Shi'}, {'business_status': 'OPERATIONAL', 'geometry': {'location': {'lat': 36.2383494, 'lng': 115.669415}, 'viewport': {'northeast': {'lat': 36.2397416802915, 'lng': 115.6707782302915}, 'southwest': {'lat': 36.2370437197085, 'lng': 115.6680802697085}}}, 'icon': 'https://maps.gstatic.com/mapfiles/place_api/icons/v1/png_71/lodging-71.png', 'name': 'Kanghui Hotel', 'place_id': 'ChIJIzlro9YywzURQxkTzt1oVKo', 'plus_code': {'compound_code': '6MQ9+8Q Shen County, Liaocheng, Shandong, China', 'global_code': '8P8Q6MQ9+8Q'}, 'reference': 'ChIJIzlro9YywzURQxkTzt1oVKo', 'scope': 'GOOGLE', 'types': ['lodging', 'point_of_interest', 'establishment'], 'vicinity': 'Zhen Xing Jie, Shenxian, Liaocheng Shi'}, {'business_status': 'OPERATIONAL', 'geometry': {'location': {'lat': 36.2383196, 'lng': 115.6695541}, 'viewport': {'northeast': {'lat': 36.2397118302915, 'lng': 115.6709174802915}, 'southwest': {'lat': 36.2370138697085, 'lng': 115.6682195197085}}}, 'icon': 'https://maps.gstatic.com/mapfiles/place_api/icons/v1/png_71/lodging-71.png', 'name': 'Deyue Building Hotel', 'place_id': 'ChIJ01u2vNYywzURj2On4ONN8NE', 'plus_code': {'compound_code': '6MQ9+8R Shen County, Liaocheng, Shandong, China', 'global_code': '8P8Q6MQ9+8R'}, 'reference': 'ChIJ01u2vNYywzURj2On4ONN8NE', 'scope': 'GOOGLE', 'types': ['lodging', 'point_of_interest', 'establishment'], 'vicinity': 'Zhen Xing Jie, Shenxian, Liaocheng Shi'}, {'business_status': 'OPERATIONAL', 'geometry': {'location': {'lat': 36.24537399999999, 'lng': 115.6674324}, 'viewport': {'northeast': {'lat': 36.2466779302915, 'lng': 115.6687764802915}, 'southwest': {'lat': 36.2439799697085, 'lng': 115.6660785197085}}}, 'icon': 'https://maps.gstatic.com/mapfiles/place_api/icons/v1/png_71/lodging-71.png', 'name': 'Beiyuan Hotel', 'place_id': 'ChIJ58QK7c0ywzURJERivw_nt5M', 'plus_code': {'compound_code': '6MW8+4X Shen County, Liaocheng, Shandong, China', 'global_code': '8P8Q6MW8+4X'}, 'reference': 'ChIJ58QK7c0ywzURJERivw_nt5M', 'scope': 'GOOGLE', 'types': ['lodging', 'point_of_interest', 'establishment'], 'vicinity': '北环路, Shenxian, Liaocheng Shi'}, {'business_status': 'OPERATIONAL', 'geometry': {'location': {'lat': 36.24525120000001, 'lng': 115.6692969}, 'viewport': {'northeast': {'lat': 36.2465552302915, 'lng': 115.6706419302915}, 'southwest': {'lat': 36.2438572697085, 'lng': 115.6679439697085}}}, 'icon': 'https://maps.gstatic.com/mapfiles/place_api/icons/v1/png_71/lodging-71.png', 'name': 'Golden Emperor Hotel', 'place_id': 'ChIJ26fMDc4ywzURSjmC0GnHWWg', 'plus_code': {'compound_code': '6MW9+4P Shen County, Liaocheng, Shandong, China', 'global_code': '8P8Q6MW9+4P'}, 'reference': 'ChIJ26fMDc4ywzURSjmC0GnHWWg', 'scope': 'GOOGLE', 'types': ['lodging', 'point_of_interest', 'establishment'], 'vicinity': '北环路, Shenxian, Liaocheng Shi'}, {'business_status': 'OPERATIONAL', 'geometry': {'location': {'lat': 36.2447, 'lng': 115.661174}, 'viewport': {'northeast': {'lat': 36.2460610802915, 'lng': 115.6624079802915}, 'southwest': {'lat': 36.2433631197085, 'lng': 115.6597100197085}}}, 'icon': 'https://maps.gstatic.com/mapfiles/place_api/icons/v1/png_71/lodging-71.png', 'name': 'Liuzhuang Restaurant', 'place_id': 'ChIJjXvLFS3N3DUR5E3PDwRyZgA', 'plus_code': {'compound_code': '6MV6+VF Shen County, Liaocheng, Shandong, China', 'global_code': '8P8Q6MV6+VF'}, 'reference': 'ChIJjXvLFS3N3DUR5E3PDwRyZgA', 'scope': 'GOOGLE', 'types': ['lodging', 'point_of_interest', 'establishment'], 'vicinity': '北环路, Shenxian, Liaocheng Shi'}, {'business_status': 'OPERATIONAL', 'geometry': {'location': {'lat': 36.238218, 'lng': 115.673827}, 'viewport': {'northeast': {'lat': 36.2395203302915, 'lng': 115.6751436302915}, 'southwest': {'lat': 36.23682236970851, 'lng': 115.6724456697085}}}, 'icon': 'https://maps.gstatic.com/mapfiles/place_api/icons/v1/png_71/lodging-71.png', 'name': 'Shenxian Hotel', 'place_id': 'ChIJrbo3TdcywzURYrkTwevB0ec', 'plus_code': {'compound_code': '6MQF+7G Shen County, Liaocheng, Shandong, China', 'global_code': '8P8Q6MQF+7G'}, 'reference': 'ChIJrbo3TdcywzURYrkTwevB0ec', 'scope': 'GOOGLE', 'types': ['lodging', 'point_of_interest', 'establishment'], 'vicinity': '24 Zhen Xing Jie, Shenxian, Liaocheng Shi'}, {'business_status': 'OPERATIONAL', 'geometry': {'location': {'lat': 36.23748990000001, 'lng': 115.6735067}, 'viewport': {'northeast': {'lat': 36.23887618029151, 'lng': 115.6748674802915}, 'southwest': {'lat': 36.23617821970851, 'lng': 115.6721695197085}}}, 'icon': 'https://maps.gstatic.com/mapfiles/place_api/icons/v1/png_71/lodging-71.png', 'name': 'Tongxin Hotel', 'place_id': 'ChIJtx61RtcywzURuz1FIPlAVP4', 'plus_code': {'compound_code': '6MPF+XC Shen County, Liaocheng, Shandong, China', 'global_code': '8P8Q6MPF+XC'}, 'reference': 'ChIJtx61RtcywzURuz1FIPlAVP4', 'scope': 'GOOGLE', 'types': ['lodging', 'point_of_interest', 'establishment'], 'vicinity': 'Zhen Xing Jie, Shenxian, Liaocheng Shi'}, {'business_status': 'OPERATIONAL', 'geometry': {'location': {'lat': 36.247933, 'lng': 115.668436}, 'viewport': {'northeast': {'lat': 36.2492947302915, 'lng': 115.6696904802915}, 'southwest': {'lat': 36.2465967697085, 'lng': 115.6669925197085}}}, 'icon': 'https://maps.gstatic.com/mapfiles/place_api/icons/v1/png_71/lodging-71.png', 'name': 'Qiyunchun Hotel', 'place_id': 'ChIJU62RJswywzURsoqt_uS1S7s', 'plus_code': {'compound_code': '6MX9+59 Shen County, Liaocheng, Shandong, China', 'global_code': '8P8Q6MX9+59'}, 'reference': 'ChIJU62RJswywzURsoqt_uS1S7s', 'scope': 'GOOGLE', 'types': ['lodging', 'point_of_interest', 'establishment'], 'vicinity': 'Shen County, Liaocheng'}, {'business_status': 'OPERATIONAL', 'geometry': {'location': {'lat': 36.2372963, 'lng': 115.6757623}, 'viewport': {'northeast': {'lat': 36.2386069302915, 'lng': 115.6770999302915}, 'southwest': {'lat': 36.2359089697085, 'lng': 115.6744019697085}}}, 'icon': 'https://maps.gstatic.com/mapfiles/place_api/icons/v1/png_71/lodging-71.png', 'name': 'Yingbin Hotel', 'place_id': 'ChIJwSDe89kywzURtdu-KMx28kM', 'plus_code': {'compound_code': '6MPG+W8 Shen County, Liaocheng, Shandong, China', 'global_code': '8P8Q6MPG+W8'}, 'reference': 'ChIJwSDe89kywzURtdu-KMx28kM', 'scope': 'GOOGLE', 'types': ['lodging', 'point_of_interest', 'establishment'], 'vicinity': 'Zhen Xing Jie, Shenxian, Liaocheng Shi'}, {'business_status': 'OPERATIONAL', 'geometry': {'location': {'lat': 36.23628, 'lng': 115.659336}, 'viewport': {'northeast': {'lat': 36.2376167802915, 'lng': 115.6608128802915}, 'southwest': {'lat': 36.2349188197085, 'lng': 115.6581149197085}}}, 'icon': 'https://maps.gstatic.com/mapfiles/place_api/icons/v1/png_71/lodging-71.png', 'name': 'New Century Hotel', 'place_id': 'ChIJsQz0htXM3DURDSbhSV_FfmE', 'plus_code': {'compound_code': '6MP5+GP Shen County, Liaocheng, Shandong, China', 'global_code': '8P8Q6MP5+GP'}, 'reference': 'ChIJsQz0htXM3DURDSbhSV_FfmE', 'scope': 'GOOGLE', 'types': ['lodging', 'point_of_interest', 'establishment'], 'vicinity': 'Zheng Fu Jie, Shenxian, Liaocheng Shi'}, {'business_status': 'OPERATIONAL', 'geometry': {'location': {'lat': 36.234741, 'lng': 115.673215}, 'viewport': {'northeast': {'lat': 36.23615848029149, 'lng': 115.6745619302915}, 'southwest': {'lat': 36.23346051970849, 'lng': 115.6718639697085}}}, 'icon': 'https://maps.gstatic.com/mapfiles/place_api/icons/v1/png_71/lodging-71.png', 'name': 'The Hui People Hotel', 'place_id': 'ChIJi9x4ldcywzUR15vpodL4P3U', 'plus_code': {'compound_code': '6MMF+V7 Shen County, Liaocheng, Shandong, China', 'global_code': '8P8Q6MMF+V7'}, 'reference': 'ChIJi9x4ldcywzUR15vpodL4P3U', 'scope': 'GOOGLE', 'types': ['lodging', 'point_of_interest', 'establishment'], 'vicinity': 'Shen Ting Lu, Shenxian, Liaocheng Shi'}, {'business_status': 'OPERATIONAL', 'geometry': {'location': {'lat': 36.249048, 'lng': 115.668997}, 'viewport': {'northeast': {'lat': 36.25043133029151, 'lng': 115.6700910302915}, 'southwest': {'lat': 36.24773336970851, 'lng': 115.6673930697085}}}, 'icon': 'https://maps.gstatic.com/mapfiles/place_api/icons/v1/png_71/lodging-71.png', 'name': 'Liaocheng Ruichi Business Hotel', 'place_id': 'ChIJIcAcqc4ywzURd_YGevtgdB4', 'plus_code': {'compound_code': '6MX9+JH Shen County, Liaocheng, Shandong, China', 'global_code': '8P8Q6MX9+JH'}, 'reference': 'ChIJIcAcqc4ywzURd_YGevtgdB4', 'scope': 'GOOGLE', 'types': ['lodging', 'point_of_interest', 'establishment'], 'vicinity': '新华路北侧, Xin Hua Lu, Shenxian, Liaocheng Shi'}, {'business_status': 'OPERATIONAL', 'geometry': {'location': {'lat': 36.239127, 'lng': 115.677248}, 'viewport': {'northeast': {'lat': 36.24044523029151, 'lng': 115.6787492802915}, 'southwest': {'lat': 36.23774726970851, 'lng': 115.6760513197085}}}, 'icon': 'https://maps.gstatic.com/mapfiles/place_api/icons/v1/png_71/lodging-71.png', 'name': 'Jinhe Hotel', 'place_id': 'ChIJH0mgTtoywzURhXR9FtiMPAQ', 'plus_code': {'compound_code': '6MQG+MV Shen County, Liaocheng, Shandong, China', 'global_code': '8P8Q6MQG+MV'}, 'reference': 'ChIJH0mgTtoywzURhXR9FtiMPAQ', 'scope': 'GOOGLE', 'types': ['lodging', 'point_of_interest', 'establishment'], 'vicinity': 'Tong Yun Lu, Shenxian, Liaocheng Shi'}, {'business_status': 'OPERATIONAL', 'geometry': {'location': {'lat': 36.2384366, 'lng': 115.6772332}, 'viewport': {'northeast': {'lat': 36.2397736302915, 'lng': 115.6786388802915}, 'southwest': {'lat': 36.2370756697085, 'lng': 115.6759409197085}}}, 'icon': 'https://maps.gstatic.com/mapfiles/place_api/icons/v1/png_71/lodging-71.png', 'name': 'Luxi Restaurant', 'place_id': 'ChIJPckrN9oywzURsdlNR9UMC2s', 'plus_code': {'compound_code': '6MQG+9V Shen County, Liaocheng, Shandong, China', 'global_code': '8P8Q6MQG+9V'}, 'reference': 'ChIJPckrN9oywzURsdlNR9UMC2s', 'scope': 'GOOGLE', 'types': ['lodging', 'point_of_interest', 'establishment'], 'vicinity': 'Tong Yun Lu, Shenxian, Liaocheng Shi'}, {'business_status': 'OPERATIONAL', 'geometry': {'location': {'lat': 36.2413009, 'lng': 115.6565961}, 'viewport': {'northeast': {'lat': 36.24260628029149, 'lng': 115.6579307302915}, 'southwest': {'lat': 36.2399083197085, 'lng': 115.6552327697085}}}, 'icon': 'https://maps.gstatic.com/mapfiles/place_api/icons/v1/png_71/lodging-71.png', 'name': 'Sanyou Restaurant', 'place_id': 'ChIJR5KfWSnN3DUR9OzObB_H2fc', 'plus_code': {'compound_code': '6MR4+GJ Shen County, Liaocheng, Shandong, China', 'global_code': '8P8Q6MR4+GJ'}, 'reference': 'ChIJR5KfWSnN3DUR9OzObB_H2fc', 'scope': 'GOOGLE', 'types': ['lodging', 'point_of_interest', 'establishment'], 'vicinity': 'Zhen Xing Jie, Shenxian, Liaocheng Shi'}, {'business_status': 'OPERATIONAL', 'geometry': {'location': {'lat': 36.23247370000001, 'lng': 115.6651422}, 'viewport': {'northeast': {'lat': 36.2338296302915, 'lng': 115.6664359802915}, 'southwest': {'lat': 36.2311316697085, 'lng': 115.6637380197085}}}, 'icon': 'https://maps.gstatic.com/mapfiles/place_api/icons/v1/png_71/lodging-71.png', 'name': 'Xinlong Restaurant', 'place_id': 'ChIJaeD9AiszwzURVlmsGKRRiOQ', 'plus_code': {'compound_code': '6MJ8+X3 Shen County, Liaocheng, Shandong, China', 'global_code': '8P8Q6MJ8+X3'}, 'reference': 'ChIJaeD9AiszwzURVlmsGKRRiOQ', 'scope': 'GOOGLE', 'types': ['lodging', 'point_of_interest', 'establishment'], 'vicinity': 'Xin Hua Lu, Shenxian, Liaocheng Shi'}], 'status': 'OK'}\n"
     ]
    }
   ],
   "source": [
    "\n",
    "\n",
    "# Set parameters to search for hotels with 5000 meters.\n",
    "for index, row in hotel_df.iterrows():\n",
    "    base_url = 'https://maps.googleapis.com/maps/api/place/nearbysearch/json'\n",
    "    radius = 5000\n",
    "    city = row['City']\n",
    "    lat = row['LAT']\n",
    "    lon = row['LON']\n",
    "    location = f'{lat},{lon}'\n",
    "    params = {\n",
    "        'location': location,   \n",
    "        'rankby': 'distance',\n",
    "        'type': 'lodging',\n",
    "        'radious': radius,\n",
    "        'key':g_key\n",
    "\n",
    "}\n",
    "    response = requests.get(base_url, params=params).json()\n",
    "    print(response)\n",
    "    break\n",
    "# Hit the Google Places API for each city's coordinates.Store the first Hotel result into the DataFrame.\n",
    "# Plot markers on top of the heatmap.\n",
    "#https://maps.googleapis.com/maps/api/place/nearbysearch/json?location=-33.8670522,151.1957362&radius=1500&type=restaurant&keyword=cruise&key=YOUR_API_KEY"
   ]
  },
  {
   "cell_type": "code",
   "execution_count": 100,
   "metadata": {},
   "outputs": [
    {
     "output_type": "error",
     "ename": "KeyError",
     "evalue": "'Country'",
     "traceback": [
      "\u001b[1;31m---------------------------------------------------------------------------\u001b[0m",
      "\u001b[1;31mKeyError\u001b[0m                                  Traceback (most recent call last)",
      "\u001b[1;32m<ipython-input-100-473ec92d5b94>\u001b[0m in \u001b[0;36m<module>\u001b[1;34m\u001b[0m\n\u001b[0;32m     11\u001b[0m \u001b[1;31m# Store the DataFrame Row\u001b[0m\u001b[1;33m\u001b[0m\u001b[1;33m\u001b[0m\u001b[1;33m\u001b[0m\u001b[0m\n\u001b[0;32m     12\u001b[0m \u001b[1;31m# NOTE: be sure to update with your DataFrame name\u001b[0m\u001b[1;33m\u001b[0m\u001b[1;33m\u001b[0m\u001b[1;33m\u001b[0m\u001b[0m\n\u001b[1;32m---> 13\u001b[1;33m \u001b[0mhotel_info\u001b[0m \u001b[1;33m=\u001b[0m \u001b[1;33m[\u001b[0m\u001b[0minfo_box_template\u001b[0m\u001b[1;33m.\u001b[0m\u001b[0mformat\u001b[0m\u001b[1;33m(\u001b[0m\u001b[1;33m**\u001b[0m\u001b[0mrow\u001b[0m\u001b[1;33m)\u001b[0m \u001b[1;32mfor\u001b[0m \u001b[0mindex\u001b[0m\u001b[1;33m,\u001b[0m \u001b[0mrow\u001b[0m \u001b[1;32min\u001b[0m \u001b[0mhotel_df\u001b[0m\u001b[1;33m.\u001b[0m\u001b[0miterrows\u001b[0m\u001b[1;33m(\u001b[0m\u001b[1;33m)\u001b[0m\u001b[1;33m]\u001b[0m\u001b[1;33m\u001b[0m\u001b[1;33m\u001b[0m\u001b[0m\n\u001b[0m\u001b[0;32m     14\u001b[0m \u001b[0mlocations\u001b[0m \u001b[1;33m=\u001b[0m \u001b[0mhotel_df\u001b[0m\u001b[1;33m[\u001b[0m\u001b[1;33m[\u001b[0m\u001b[1;34m\"Lat\"\u001b[0m\u001b[1;33m,\u001b[0m \u001b[1;34m\"Lng\"\u001b[0m\u001b[1;33m]\u001b[0m\u001b[1;33m]\u001b[0m\u001b[1;33m\u001b[0m\u001b[1;33m\u001b[0m\u001b[0m\n",
      "\u001b[1;32m<ipython-input-100-473ec92d5b94>\u001b[0m in \u001b[0;36m<listcomp>\u001b[1;34m(.0)\u001b[0m\n\u001b[0;32m     11\u001b[0m \u001b[1;31m# Store the DataFrame Row\u001b[0m\u001b[1;33m\u001b[0m\u001b[1;33m\u001b[0m\u001b[1;33m\u001b[0m\u001b[0m\n\u001b[0;32m     12\u001b[0m \u001b[1;31m# NOTE: be sure to update with your DataFrame name\u001b[0m\u001b[1;33m\u001b[0m\u001b[1;33m\u001b[0m\u001b[1;33m\u001b[0m\u001b[0m\n\u001b[1;32m---> 13\u001b[1;33m \u001b[0mhotel_info\u001b[0m \u001b[1;33m=\u001b[0m \u001b[1;33m[\u001b[0m\u001b[0minfo_box_template\u001b[0m\u001b[1;33m.\u001b[0m\u001b[0mformat\u001b[0m\u001b[1;33m(\u001b[0m\u001b[1;33m**\u001b[0m\u001b[0mrow\u001b[0m\u001b[1;33m)\u001b[0m \u001b[1;32mfor\u001b[0m \u001b[0mindex\u001b[0m\u001b[1;33m,\u001b[0m \u001b[0mrow\u001b[0m \u001b[1;32min\u001b[0m \u001b[0mhotel_df\u001b[0m\u001b[1;33m.\u001b[0m\u001b[0miterrows\u001b[0m\u001b[1;33m(\u001b[0m\u001b[1;33m)\u001b[0m\u001b[1;33m]\u001b[0m\u001b[1;33m\u001b[0m\u001b[1;33m\u001b[0m\u001b[0m\n\u001b[0m\u001b[0;32m     14\u001b[0m \u001b[0mlocations\u001b[0m \u001b[1;33m=\u001b[0m \u001b[0mhotel_df\u001b[0m\u001b[1;33m[\u001b[0m\u001b[1;33m[\u001b[0m\u001b[1;34m\"Lat\"\u001b[0m\u001b[1;33m,\u001b[0m \u001b[1;34m\"Lng\"\u001b[0m\u001b[1;33m]\u001b[0m\u001b[1;33m]\u001b[0m\u001b[1;33m\u001b[0m\u001b[1;33m\u001b[0m\u001b[0m\n",
      "\u001b[1;31mKeyError\u001b[0m: 'Country'"
     ]
    }
   ],
   "source": [
    "#NOTE: Do not change any of the code in this cell\n",
    "\n",
    "# Using the template add the hotel marks to the heatmap\n",
    "info_box_template = \"\"\"\n",
    "<dl>\n",
    "<dt>Name</dt><dd>{Hotel Name}</dd>\n",
    "<dt>City</dt><dd>{City}</dd>\n",
    "<dt>Country</dt><dd>{Country}</dd>\n",
    "</dl>\n",
    "\"\"\"\n",
    "# Store the DataFrame Row\n",
    "# NOTE: be sure to update with your DataFrame name\n",
    "hotel_info = [info_box_template.format(**row) for index, row in hotel_df.iterrows()]\n",
    "locations = hotel_df[[\"Lat\", \"Lng\"]]"
   ]
  },
  {
   "cell_type": "code",
   "execution_count": null,
   "metadata": {},
   "outputs": [],
   "source": [
    "# Add marker layer ontop of heat map\n",
    "\n",
    "\n",
    "# Display figure"
   ]
  }
 ]
}